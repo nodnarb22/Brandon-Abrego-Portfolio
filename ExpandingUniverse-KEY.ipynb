{
 "cells": [
  {
   "cell_type": "code",
   "execution_count": 76,
   "metadata": {},
   "outputs": [],
   "source": [
    "from IPython.display import IFrame"
   ]
  },
  {
   "cell_type": "code",
   "execution_count": 77,
   "metadata": {},
   "outputs": [],
   "source": [
    "%matplotlib inline"
   ]
  },
  {
   "cell_type": "markdown",
   "metadata": {},
   "source": [
    "# *Hubble and the origins of DESI*"
   ]
  },
  {
   "cell_type": "markdown",
   "metadata": {},
   "source": [
    "The year 1929 brought us the Oscars, the first car radio and Edwin Hubble's unexpected observation about galxies!"
   ]
  },
  {
   "cell_type": "markdown",
   "metadata": {},
   "source": [
    "![title](desihigh/images/edwin-hubble.jpg)"
   ]
  },
  {
   "cell_type": "markdown",
   "metadata": {},
   "source": [
    "Photo credit:  Margaret Bourke-White, Time & Life Pictures, Getty Images"
   ]
  },
  {
   "cell_type": "markdown",
   "metadata": {},
   "source": [
    "Let's take a quick look at some of the galaxies he was looking at, Triangulum and the Large Magellanic Cloud."
   ]
  },
  {
   "cell_type": "markdown",
   "metadata": {},
   "source": [
    "![title](desihigh/images/Triangulum.jpg)\n",
    "![title](desihigh/images/LMC.jpg)"
   ]
  },
  {
   "cell_type": "markdown",
   "metadata": {},
   "source": [
    "In total, Edwin studied the distances of 24 galaxies from us, and their observed `redshifts'.  What does that mean?"
   ]
  },
  {
   "cell_type": "markdown",
   "metadata": {},
   "source": [
    "Maybe you already know that the energy levels of Hydrogen are __quantized__, with electrons habitating a series of shells with __discrete__ energies.  When an electron transitions between any two levels, light is emitted with a wavelength neatly given by the \"Rydberg\" formula: \n",
    "\n",
    "$$\n",
    "\\frac{1}{\\lambda_{\\rm vac}} = 1.096 \\times 10^{7} \\left ( \\frac{1}{n^2} - \\frac{1}{m^2} \\right ) \n",
    "$$\n",
    "\n",
    "where $n$ and $m$ (any one of $[0, 1, 2, ... \\infty]$) label the two energy levels. "
   ]
  },
  {
   "cell_type": "code",
   "execution_count": 135,
   "metadata": {},
   "outputs": [],
   "source": [
    "# First, let's import some useful packages:\n",
    "import os\n",
    "import sys\n",
    "import astropy\n",
    "import pylab           as     pl\n",
    "import pandas          as     pd\n",
    "import numpy           as     np\n",
    "\n",
    "\n",
    "from   matplotlib      import pyplot as plt\n",
    "from   scipy           import stats\n",
    "from   IPython.display import Image\n",
    "from   pkg_resources   import resource_filename"
   ]
  },
  {
   "cell_type": "code",
   "execution_count": 4,
   "metadata": {},
   "outputs": [],
   "source": [
    "# For our friends running on Google Colab - remember to \n",
    "# mount your drive for all notebooks other than Colab.ipynb\n",
    "# \n",
    "# Safely ignore otherwise!\n",
    "sys.path.append('/content/drive/MyDrive/desihigh/')"
   ]
  },
  {
   "cell_type": "code",
   "execution_count": 136,
   "metadata": {},
   "outputs": [],
   "source": [
    "from   tools           import pubplot\n",
    "\n",
    "from   tools.wave2rgb  import wavelength_to_rgb"
   ]
  },
  {
   "cell_type": "code",
   "execution_count": 6,
   "metadata": {},
   "outputs": [],
   "source": [
    "def Rydberg(n, m):\n",
    "    # Vacuum wavelengths [nanometres]\n",
    "    result = 1.096e-2 * (1. / n / n - 1. / m / m)\n",
    "    return 1. / result"
   ]
  },
  {
   "cell_type": "markdown",
   "metadata": {},
   "source": [
    "Let's workout the wavelengths of light that Hydrogen can emit:"
   ]
  },
  {
   "cell_type": "code",
   "execution_count": 7,
   "metadata": {
    "scrolled": true
   },
   "outputs": [
    {
     "name": "stdout",
     "output_type": "stream",
     "text": [
      "n \t m \t Wavelength [nm]\n",
      "1 \t 2 \t 121.655\n",
      "1 \t 3 \t 102.646\n",
      "1 \t 4 \t 97.324\n",
      "1 \t 5 \t 95.043\n",
      "1 \t 6 \t 93.848\n",
      "1 \t 7 \t 93.142\n",
      "1 \t 8 \t 92.689\n",
      "1 \t 9 \t 92.381\n",
      "2 \t 3 \t 656.934\n",
      "2 \t 4 \t 486.618\n",
      "2 \t 5 \t 434.480\n",
      "2 \t 6 \t 410.584\n",
      "2 \t 7 \t 397.405\n",
      "2 \t 8 \t 389.294\n",
      "2 \t 9 \t 383.923\n",
      "3 \t 4 \t 1876.955\n",
      "3 \t 5 \t 1283.075\n",
      "3 \t 6 \t 1094.891\n",
      "3 \t 7 \t 1005.931\n",
      "3 \t 8 \t 955.541\n",
      "3 \t 9 \t 923.814\n",
      "4 \t 5 \t 4055.150\n",
      "4 \t 6 \t 2627.737\n",
      "4 \t 7 \t 2167.662\n",
      "4 \t 8 \t 1946.472\n",
      "4 \t 9 \t 1819.203\n",
      "5 \t 6 \t 7465.163\n",
      "5 \t 7 \t 4657.086\n",
      "5 \t 8 \t 3743.215\n",
      "5 \t 9 \t 3299.335\n",
      "6 \t 7 \t 12380.685\n",
      "6 \t 8 \t 7507.821\n",
      "6 \t 9 \t 5912.409\n",
      "7 \t 8 \t 19075.426\n",
      "7 \t 9 \t 11316.720\n",
      "8 \t 9 \t 27823.100\n"
     ]
    }
   ],
   "source": [
    "waves = []\n",
    "\n",
    "print('n \\t m \\t Wavelength [nm]')\n",
    "\n",
    "for n in np.arange(1, 10, 1):\n",
    "    for m in np.arange(n+1, 10, 1):\n",
    "        wave = Rydberg(n, m)        \n",
    "        waves.append(wave)\n",
    "        \n",
    "        print('{:d} \\t {:d} \\t {:.3f}'.format(n, m, wave))"
   ]
  },
  {
   "cell_type": "markdown",
   "metadata": {},
   "source": [
    "Now let's plot the wavelengths and see the color of these lines.  If we were to look at a emitting Hydrogen atom, you'd see this:"
   ]
  },
  {
   "cell_type": "code",
   "execution_count": 8,
   "metadata": {},
   "outputs": [
    {
     "data": {
      "text/plain": [
       "(380.0, 780.0)"
      ]
     },
     "execution_count": 8,
     "metadata": {},
     "output_type": "execute_result"
    },
    {
     "data": {
      "image/png": "[encoded data removed]",
      "text/plain": [
       "<Figure size 478.207x295.548 with 1 Axes>"
      ]
     },
     "metadata": {
      "needs_background": "light"
     },
     "output_type": "display_data"
    }
   ],
   "source": [
    "for wave in waves:\n",
    "  # color = [r, g, b]\n",
    "  color = wavelength_to_rgb(wave)       \n",
    "  pl.axvline(x=wave, c=color)\n",
    "\n",
    "pl.xlabel('Vacuum wavelength [nanometers]')\n",
    "pl.xlim(380., 780.)"
   ]
  },
  {
   "cell_type": "markdown",
   "metadata": {},
   "source": [
    "If the hydrogen exists in a galaxy that is moving, we see the lines Doppler shifted. We will call this the \"redshift\" of the galaxy, often denote  as $z$ (https://en.wikipedia.org/wiki/Redshift). Let's say the galaxy is moving at 1% the speed of light (v = 0.1*c), we can calculate the redshift with the following equation:\n",
    "$$\n",
    "1 + z = \\sqrt{\\frac{1 + v/c}{1 - v/c}}\n",
    "$$"
   ]
  },
  {
   "cell_type": "code",
   "execution_count": 9,
   "metadata": {},
   "outputs": [],
   "source": [
    "def redshift(v):\n",
    "    # v [speed of light].\n",
    "    result = (1. + v) / (1. - v) \n",
    "    result = np.sqrt(result) - 1.\n",
    "    \n",
    "    return  result"
   ]
  },
  {
   "cell_type": "code",
   "execution_count": 10,
   "metadata": {},
   "outputs": [
    {
     "data": {
      "text/plain": [
       "(380.0, 780.0)"
      ]
     },
     "execution_count": 10,
     "metadata": {},
     "output_type": "execute_result"
    },
    {
     "data": {
      "image/png": "[encoded data removed]",
      "text/plain": [
       "<Figure size 478.207x295.548 with 1 Axes>"
      ]
     },
     "metadata": {
      "needs_background": "light"
     },
     "output_type": "display_data"
    }
   ],
   "source": [
    "zz = redshift(0.01) \n",
    "\n",
    "for restwave in waves:\n",
    "  obswave = (1. + zz) * restwave     \n",
    "\n",
    "  color   = wavelength_to_rgb(restwave)       \n",
    "  pl.axvline(x=restwave, c=color, alpha=0.25)\n",
    "\n",
    "  color   = wavelength_to_rgb(obswave)       \n",
    "  pl.axvline(x=obswave, c=color)\n",
    "\n",
    "pl.xlabel('Vacuum wavelength [nanometers]')\n",
    "pl.xlim(380., 780.)"
   ]
  },
  {
   "cell_type": "markdown",
   "metadata": {},
   "source": [
    "Here you see the original line (faint) and the line shifted if the galaxy with the emitting Hydrogen is moving. https://en.wikipedia.org/wiki/Doppler_effect will tell you all the details."
   ]
  },
  {
   "cell_type": "markdown",
   "metadata": {},
   "source": [
    "Hubble knew the lines of Hydrogen, and for many other elements.  By reversing above, he was able to calculate the velocity for many galaxies.  He found out how far away there were (from how bright some special stars in the galaxy were - https://en.wikipedia.org/wiki/Cepheid_variable) and how fast they were moving (from their redshift, as above):\n",
    "\n",
    "Lets look at the data Hubble used."
   ]
  },
  {
   "cell_type": "code",
   "execution_count": 137,
   "metadata": {},
   "outputs": [
    {
     "data": {
      "text/html": [
       "<div>\n",
       "<style scoped>\n",
       "    .dataframe tbody tr th:only-of-type {\n",
       "        vertical-align: middle;\n",
       "    }\n",
       "\n",
       "    .dataframe tbody tr th {\n",
       "        vertical-align: top;\n",
       "    }\n",
       "\n",
       "    .dataframe thead th {\n",
       "        text-align: right;\n",
       "    }\n",
       "</style>\n",
       "<table border=\"1\" class=\"dataframe\">\n",
       "  <thead>\n",
       "    <tr style=\"text-align: right;\">\n",
       "      <th></th>\n",
       "      <th>Galaxy name</th>\n",
       "      <th>Distance [Mpc]</th>\n",
       "      <th>Redshift</th>\n",
       "    </tr>\n",
       "  </thead>\n",
       "  <tbody>\n",
       "    <tr>\n",
       "      <td>0</td>\n",
       "      <td>S.Mag</td>\n",
       "      <td>0.032</td>\n",
       "      <td>0.000567</td>\n",
       "    </tr>\n",
       "    <tr>\n",
       "      <td>1</td>\n",
       "      <td>L.Mag</td>\n",
       "      <td>0.034</td>\n",
       "      <td>0.000967</td>\n",
       "    </tr>\n",
       "    <tr>\n",
       "      <td>2</td>\n",
       "      <td>NGC6822</td>\n",
       "      <td>0.214</td>\n",
       "      <td>-0.000433</td>\n",
       "    </tr>\n",
       "    <tr>\n",
       "      <td>3</td>\n",
       "      <td>NGC598</td>\n",
       "      <td>0.263</td>\n",
       "      <td>-0.000233</td>\n",
       "    </tr>\n",
       "    <tr>\n",
       "      <td>4</td>\n",
       "      <td>NGC221</td>\n",
       "      <td>0.275</td>\n",
       "      <td>-0.000616</td>\n",
       "    </tr>\n",
       "    <tr>\n",
       "      <td>5</td>\n",
       "      <td>NGC224</td>\n",
       "      <td>0.275</td>\n",
       "      <td>-0.000733</td>\n",
       "    </tr>\n",
       "    <tr>\n",
       "      <td>6</td>\n",
       "      <td>NGC5457</td>\n",
       "      <td>0.450</td>\n",
       "      <td>0.000667</td>\n",
       "    </tr>\n",
       "    <tr>\n",
       "      <td>7</td>\n",
       "      <td>NGC4736</td>\n",
       "      <td>0.500</td>\n",
       "      <td>0.000967</td>\n",
       "    </tr>\n",
       "    <tr>\n",
       "      <td>8</td>\n",
       "      <td>NGC5194</td>\n",
       "      <td>0.500</td>\n",
       "      <td>0.000900</td>\n",
       "    </tr>\n",
       "    <tr>\n",
       "      <td>9</td>\n",
       "      <td>NGC4449</td>\n",
       "      <td>0.630</td>\n",
       "      <td>0.000667</td>\n",
       "    </tr>\n",
       "    <tr>\n",
       "      <td>10</td>\n",
       "      <td>NGC4214</td>\n",
       "      <td>0.800</td>\n",
       "      <td>0.001001</td>\n",
       "    </tr>\n",
       "    <tr>\n",
       "      <td>11</td>\n",
       "      <td>NGC3031</td>\n",
       "      <td>0.900</td>\n",
       "      <td>-0.000100</td>\n",
       "    </tr>\n",
       "    <tr>\n",
       "      <td>12</td>\n",
       "      <td>NGC3627</td>\n",
       "      <td>0.900</td>\n",
       "      <td>0.002169</td>\n",
       "    </tr>\n",
       "    <tr>\n",
       "      <td>13</td>\n",
       "      <td>NGC4826</td>\n",
       "      <td>0.900</td>\n",
       "      <td>0.000500</td>\n",
       "    </tr>\n",
       "    <tr>\n",
       "      <td>14</td>\n",
       "      <td>NGC5236</td>\n",
       "      <td>0.900</td>\n",
       "      <td>0.001668</td>\n",
       "    </tr>\n",
       "    <tr>\n",
       "      <td>15</td>\n",
       "      <td>NGC1068</td>\n",
       "      <td>1.000</td>\n",
       "      <td>0.003071</td>\n",
       "    </tr>\n",
       "    <tr>\n",
       "      <td>16</td>\n",
       "      <td>NGC5055</td>\n",
       "      <td>1.100</td>\n",
       "      <td>0.001501</td>\n",
       "    </tr>\n",
       "    <tr>\n",
       "      <td>17</td>\n",
       "      <td>NGC7331</td>\n",
       "      <td>1.100</td>\n",
       "      <td>0.001668</td>\n",
       "    </tr>\n",
       "    <tr>\n",
       "      <td>18</td>\n",
       "      <td>NGC4258</td>\n",
       "      <td>1.400</td>\n",
       "      <td>0.001668</td>\n",
       "    </tr>\n",
       "    <tr>\n",
       "      <td>19</td>\n",
       "      <td>NGC4151</td>\n",
       "      <td>1.700</td>\n",
       "      <td>0.003205</td>\n",
       "    </tr>\n",
       "    <tr>\n",
       "      <td>20</td>\n",
       "      <td>NGC4382</td>\n",
       "      <td>2.000</td>\n",
       "      <td>0.001668</td>\n",
       "    </tr>\n",
       "    <tr>\n",
       "      <td>21</td>\n",
       "      <td>NGC4472</td>\n",
       "      <td>2.000</td>\n",
       "      <td>0.002837</td>\n",
       "    </tr>\n",
       "    <tr>\n",
       "      <td>22</td>\n",
       "      <td>NGC4486</td>\n",
       "      <td>2.000</td>\n",
       "      <td>0.002670</td>\n",
       "    </tr>\n",
       "    <tr>\n",
       "      <td>23</td>\n",
       "      <td>NGC4649</td>\n",
       "      <td>2.000</td>\n",
       "      <td>0.003640</td>\n",
       "    </tr>\n",
       "  </tbody>\n",
       "</table>\n",
       "</div>"
      ],
      "text/plain": [
       "   Galaxy name  Distance [Mpc]  Redshift\n",
       "0        S.Mag           0.032  0.000567\n",
       "1        L.Mag           0.034  0.000967\n",
       "2      NGC6822           0.214 -0.000433\n",
       "3       NGC598           0.263 -0.000233\n",
       "4       NGC221           0.275 -0.000616\n",
       "5       NGC224           0.275 -0.000733\n",
       "6      NGC5457           0.450  0.000667\n",
       "7      NGC4736           0.500  0.000967\n",
       "8      NGC5194           0.500  0.000900\n",
       "9      NGC4449           0.630  0.000667\n",
       "10     NGC4214           0.800  0.001001\n",
       "11     NGC3031           0.900 -0.000100\n",
       "12     NGC3627           0.900  0.002169\n",
       "13     NGC4826           0.900  0.000500\n",
       "14     NGC5236           0.900  0.001668\n",
       "15     NGC1068           1.000  0.003071\n",
       "16     NGC5055           1.100  0.001501\n",
       "17     NGC7331           1.100  0.001668\n",
       "18     NGC4258           1.400  0.001668\n",
       "19     NGC4151           1.700  0.003205\n",
       "20     NGC4382           2.000  0.001668\n",
       "21     NGC4472           2.000  0.002837\n",
       "22     NGC4486           2.000  0.002670\n",
       "23     NGC4649           2.000  0.003640"
      ]
     },
     "execution_count": 137,
     "metadata": {},
     "output_type": "execute_result"
    }
   ],
   "source": [
    "#read in hubbles.dat here\n",
    "hubble = pd.read_csv('hubbles.dat').drop([\"Unnamed: 0\"], axis=1) #remove unwanted index column\n",
    "hubble"
   ]
  },
  {
   "cell_type": "markdown",
   "metadata": {},
   "source": [
    "Before we plot this data, lets try to get this in terms of velocity. Remember we can convert redshift to velocity. Use the function z_to_v."
   ]
  },
  {
   "cell_type": "code",
   "execution_count": 138,
   "metadata": {},
   "outputs": [],
   "source": [
    "def z_to_v(redshifts):\n",
    "    c = 300000 #speed of light in km/s\n",
    "    num = (c*i**2) + 2*c*i\n",
    "    denom = (i**2) + 2*i + 2\n",
    "    v = num/denom\n",
    "    return v\n"
   ]
  },
  {
   "cell_type": "code",
   "execution_count": 139,
   "metadata": {},
   "outputs": [
    {
     "name": "stdout",
     "output_type": "stream",
     "text": [
      "[ 170.  290. -130.  -70. -185. -220.  200.  290.  270.  200.  300.  -30.\n",
      "  650.  150.  500.  920.  450.  500.  500.  960.  500.  850.  800. 1090.]\n"
     ]
    }
   ],
   "source": [
    "#use the function z_to_v on the redshifts column of the data\n",
    "velocities = []\n",
    "\n",
    "for i in hubble['Redshift']:\n",
    "    i = z_to_v(i)\n",
    "    velocities = np.append(velocities, i)\n",
    "print(velocities)"
   ]
  },
  {
   "cell_type": "markdown",
   "metadata": {},
   "source": [
    "Now we want to relapce the Redshift column with the our list of velocities. Remember to change the name of the column to velocities, which is kilometers per second."
   ]
  },
  {
   "cell_type": "code",
   "execution_count": 103,
   "metadata": {},
   "outputs": [
    {
     "data": {
      "text/html": [
       "<div>\n",
       "<style scoped>\n",
       "    .dataframe tbody tr th:only-of-type {\n",
       "        vertical-align: middle;\n",
       "    }\n",
       "\n",
       "    .dataframe tbody tr th {\n",
       "        vertical-align: top;\n",
       "    }\n",
       "\n",
       "    .dataframe thead th {\n",
       "        text-align: right;\n",
       "    }\n",
       "</style>\n",
       "<table border=\"1\" class=\"dataframe\">\n",
       "  <thead>\n",
       "    <tr style=\"text-align: right;\">\n",
       "      <th></th>\n",
       "      <th>Galaxy name</th>\n",
       "      <th>Distance [Mpc]</th>\n",
       "      <th>Velocity [km/s]</th>\n",
       "    </tr>\n",
       "  </thead>\n",
       "  <tbody>\n",
       "    <tr>\n",
       "      <td>0</td>\n",
       "      <td>S.Mag</td>\n",
       "      <td>0.032</td>\n",
       "      <td>170.0</td>\n",
       "    </tr>\n",
       "    <tr>\n",
       "      <td>1</td>\n",
       "      <td>L.Mag</td>\n",
       "      <td>0.034</td>\n",
       "      <td>290.0</td>\n",
       "    </tr>\n",
       "    <tr>\n",
       "      <td>2</td>\n",
       "      <td>NGC6822</td>\n",
       "      <td>0.214</td>\n",
       "      <td>-130.0</td>\n",
       "    </tr>\n",
       "    <tr>\n",
       "      <td>3</td>\n",
       "      <td>NGC598</td>\n",
       "      <td>0.263</td>\n",
       "      <td>-70.0</td>\n",
       "    </tr>\n",
       "    <tr>\n",
       "      <td>4</td>\n",
       "      <td>NGC221</td>\n",
       "      <td>0.275</td>\n",
       "      <td>-185.0</td>\n",
       "    </tr>\n",
       "    <tr>\n",
       "      <td>5</td>\n",
       "      <td>NGC224</td>\n",
       "      <td>0.275</td>\n",
       "      <td>-220.0</td>\n",
       "    </tr>\n",
       "    <tr>\n",
       "      <td>6</td>\n",
       "      <td>NGC5457</td>\n",
       "      <td>0.450</td>\n",
       "      <td>200.0</td>\n",
       "    </tr>\n",
       "    <tr>\n",
       "      <td>7</td>\n",
       "      <td>NGC4736</td>\n",
       "      <td>0.500</td>\n",
       "      <td>290.0</td>\n",
       "    </tr>\n",
       "    <tr>\n",
       "      <td>8</td>\n",
       "      <td>NGC5194</td>\n",
       "      <td>0.500</td>\n",
       "      <td>270.0</td>\n",
       "    </tr>\n",
       "    <tr>\n",
       "      <td>9</td>\n",
       "      <td>NGC4449</td>\n",
       "      <td>0.630</td>\n",
       "      <td>200.0</td>\n",
       "    </tr>\n",
       "    <tr>\n",
       "      <td>10</td>\n",
       "      <td>NGC4214</td>\n",
       "      <td>0.800</td>\n",
       "      <td>300.0</td>\n",
       "    </tr>\n",
       "    <tr>\n",
       "      <td>11</td>\n",
       "      <td>NGC3031</td>\n",
       "      <td>0.900</td>\n",
       "      <td>-30.0</td>\n",
       "    </tr>\n",
       "    <tr>\n",
       "      <td>12</td>\n",
       "      <td>NGC3627</td>\n",
       "      <td>0.900</td>\n",
       "      <td>650.0</td>\n",
       "    </tr>\n",
       "    <tr>\n",
       "      <td>13</td>\n",
       "      <td>NGC4826</td>\n",
       "      <td>0.900</td>\n",
       "      <td>150.0</td>\n",
       "    </tr>\n",
       "    <tr>\n",
       "      <td>14</td>\n",
       "      <td>NGC5236</td>\n",
       "      <td>0.900</td>\n",
       "      <td>500.0</td>\n",
       "    </tr>\n",
       "    <tr>\n",
       "      <td>15</td>\n",
       "      <td>NGC1068</td>\n",
       "      <td>1.000</td>\n",
       "      <td>920.0</td>\n",
       "    </tr>\n",
       "    <tr>\n",
       "      <td>16</td>\n",
       "      <td>NGC5055</td>\n",
       "      <td>1.100</td>\n",
       "      <td>450.0</td>\n",
       "    </tr>\n",
       "    <tr>\n",
       "      <td>17</td>\n",
       "      <td>NGC7331</td>\n",
       "      <td>1.100</td>\n",
       "      <td>500.0</td>\n",
       "    </tr>\n",
       "    <tr>\n",
       "      <td>18</td>\n",
       "      <td>NGC4258</td>\n",
       "      <td>1.400</td>\n",
       "      <td>500.0</td>\n",
       "    </tr>\n",
       "    <tr>\n",
       "      <td>19</td>\n",
       "      <td>NGC4151</td>\n",
       "      <td>1.700</td>\n",
       "      <td>960.0</td>\n",
       "    </tr>\n",
       "    <tr>\n",
       "      <td>20</td>\n",
       "      <td>NGC4382</td>\n",
       "      <td>2.000</td>\n",
       "      <td>500.0</td>\n",
       "    </tr>\n",
       "    <tr>\n",
       "      <td>21</td>\n",
       "      <td>NGC4472</td>\n",
       "      <td>2.000</td>\n",
       "      <td>850.0</td>\n",
       "    </tr>\n",
       "    <tr>\n",
       "      <td>22</td>\n",
       "      <td>NGC4486</td>\n",
       "      <td>2.000</td>\n",
       "      <td>800.0</td>\n",
       "    </tr>\n",
       "    <tr>\n",
       "      <td>23</td>\n",
       "      <td>NGC4649</td>\n",
       "      <td>2.000</td>\n",
       "      <td>1090.0</td>\n",
       "    </tr>\n",
       "  </tbody>\n",
       "</table>\n",
       "</div>"
      ],
      "text/plain": [
       "   Galaxy name  Distance [Mpc]  Velocity [km/s]\n",
       "0        S.Mag           0.032            170.0\n",
       "1        L.Mag           0.034            290.0\n",
       "2      NGC6822           0.214           -130.0\n",
       "3       NGC598           0.263            -70.0\n",
       "4       NGC221           0.275           -185.0\n",
       "5       NGC224           0.275           -220.0\n",
       "6      NGC5457           0.450            200.0\n",
       "7      NGC4736           0.500            290.0\n",
       "8      NGC5194           0.500            270.0\n",
       "9      NGC4449           0.630            200.0\n",
       "10     NGC4214           0.800            300.0\n",
       "11     NGC3031           0.900            -30.0\n",
       "12     NGC3627           0.900            650.0\n",
       "13     NGC4826           0.900            150.0\n",
       "14     NGC5236           0.900            500.0\n",
       "15     NGC1068           1.000            920.0\n",
       "16     NGC5055           1.100            450.0\n",
       "17     NGC7331           1.100            500.0\n",
       "18     NGC4258           1.400            500.0\n",
       "19     NGC4151           1.700            960.0\n",
       "20     NGC4382           2.000            500.0\n",
       "21     NGC4472           2.000            850.0\n",
       "22     NGC4486           2.000            800.0\n",
       "23     NGC4649           2.000           1090.0"
      ]
     },
     "execution_count": 103,
     "metadata": {},
     "output_type": "execute_result"
    }
   ],
   "source": [
    "#replace the redshift column with our velocity values\n",
    "hubble['Redshift'] = velocities\n",
    "#rename our column\n",
    "hubble.rename(columns = {'Redshift':'Velocity [km/s]'}, inplace = True)\n",
    "hubble"
   ]
  },
  {
   "cell_type": "markdown",
   "metadata": {},
   "source": [
    "Now we are ready to plot velocity vs distance! Feel free to clean up your graph using any commands you know."
   ]
  },
  {
   "cell_type": "code",
   "execution_count": 131,
   "metadata": {},
   "outputs": [
    {
     "data": {
      "text/plain": [
       "Text(0, 0.5, 'Recession velocity [km/s]')"
      ]
     },
     "execution_count": 131,
     "metadata": {},
     "output_type": "execute_result"
    },
    {
     "data": {
      "image/png": "[encoded data removed]",
      "text/plain": [
       "<Figure size 720x540 with 1 Axes>"
      ]
     },
     "metadata": {
      "needs_background": "light"
     },
     "output_type": "display_data"
    }
   ],
   "source": [
    "#plot data\n",
    "fig = plt.figure(figsize=(10, 7.5))\n",
    "label_style = {'fontname': 'Georgia', 'fontsize': 16} \n",
    "plt.scatter(hubble['Distance [Mpc]'], hubble['Velocity [km/s]'])\n",
    "\n",
    "#label your axes\n",
    "plt.xlabel('Distance from us [Megaparsecs]')\n",
    "pl.ylabel('Recession velocity [km/s]')\n"
   ]
  },
  {
   "cell_type": "markdown",
   "metadata": {},
   "source": [
    "<b> Answer the following questions here by editing this cell </b>\n",
    "\n",
    "What trend do you notice based on the plot? In general, are galaxies moving away or toward us?\n",
    "\n",
    "Based on the trend you noticed, what can you say about redshift/blueshift in the universe?\n",
    "\n",
    "Why might this be counter intuitive? (hint: can you think of a force that does the opposite?)\n",
    "\n",
    "\n"
   ]
  },
  {
   "cell_type": "markdown",
   "metadata": {},
   "source": [
    "(optional) Now lets add a best fit line to our data to get a more clear idea of what our trend looks like."
   ]
  },
  {
   "cell_type": "code",
   "execution_count": 132,
   "metadata": {},
   "outputs": [
    {
     "data": {
      "text/plain": [
       "[<matplotlib.lines.Line2D at 0x2033d81fe88>]"
      ]
     },
     "execution_count": 132,
     "metadata": {},
     "output_type": "execute_result"
    },
    {
     "data": {
      "image/png": "[encoded data removed]",
      "text/plain": [
       "<Figure size 720x540 with 1 Axes>"
      ]
     },
     "metadata": {
      "needs_background": "light"
     },
     "output_type": "display_data"
    }
   ],
   "source": [
    "#plot data\n",
    "fig = plt.figure(figsize=(10, 7.5))\n",
    "label_style = {'fontname': 'Georgia', 'fontsize': 16} \n",
    "plt.scatter(hubble['Distance [Mpc]'], hubble['Velocity [km/s]'])\n",
    "\n",
    "#label your axes\n",
    "plt.xlabel('Distance from us [Megaparsecs]')\n",
    "pl.ylabel('Recession velocity [km/s]')\n",
    "\n",
    "#best fit line\n",
    "d = np.polyfit(hubble['Distance [Mpc]'], hubble['Velocity [km/s]'], 1)\n",
    "f = np.poly1d(d)\n",
    "plt.plot(hubble['Distance [Mpc]'], f(hubble['Distance [Mpc]']), 'red')"
   ]
  }
 ],
 "metadata": {
  "interpreter": {
   "hash": "05744e531a6b5accf174ab064947cca0fa700a25ff2828a9ac0fc01bbcf870af"
  },
  "kernelspec": {
   "display_name": "Python 3",
   "language": "python",
   "name": "python3"
  },
  "language_info": {
   "codemirror_mode": {
    "name": "ipython",
    "version": 3
   },
   "file_extension": ".py",
   "mimetype": "text/x-python",
   "name": "python",
   "nbconvert_exporter": "python",
   "pygments_lexer": "ipython3",
   "version": "3.7.4"
  },
  "latex_envs": {
   "LaTeX_envs_menu_present": true,
   "autoclose": false,
   "autocomplete": true,
   "bibliofile": "biblio.bib",
   "cite_by": "apalike",
   "current_citInitial": 1,
   "eqLabelWithNumbers": true,
   "eqNumInitial": 1,
   "hotkeys": {
    "equation": "Ctrl-E",
    "itemize": "Ctrl-I"
   },
   "labels_anchors": false,
   "latex_user_defs": false,
   "report_style_numbering": false,
   "user_envs_cfg": false
  },
  "nbTranslate": {
   "displayLangs": [
    "*"
   ],
   "hotkey": "alt-t",
   "langInMainMenu": true,
   "sourceLang": "en",
   "targetLang": "fr",
   "useGoogleTranslate": true
  }
 },
 "nbformat": 4,
 "nbformat_minor": 4
}
